{
 "cells": [
  {
   "cell_type": "code",
   "execution_count": 32,
   "metadata": {
    "collapsed": true,
    "deletable": true,
    "editable": true
   },
   "outputs": [],
   "source": [
    "import glob\n",
    "import numpy as np \n",
    "from PIL import Image\n",
    "from itertools import combinations\n",
    "import os\n",
    "\n",
    "DATASET_PATH = './dev_dataset/'"
   ]
  },
  {
   "cell_type": "code",
   "execution_count": 2,
   "metadata": {
    "collapsed": true,
    "deletable": true,
    "editable": true
   },
   "outputs": [],
   "source": [
    "images = np.array(sorted(glob.glob(DATASET_PATH+'*.jpg')))"
   ]
  },
  {
   "cell_type": "code",
   "execution_count": 3,
   "metadata": {
    "collapsed": true,
    "deletable": true,
    "editable": true
   },
   "outputs": [],
   "source": [
    "indecies = np.array(list(combinations(range(len(images)),2)))"
   ]
  },
  {
   "cell_type": "code",
   "execution_count": 4,
   "metadata": {
    "collapsed": true,
    "deletable": true,
    "editable": true
   },
   "outputs": [],
   "source": [
    "def rgb2gray(rgb):\n",
    "    return np.dot(rgb[...,:3], [0.2989, 0.5870, 0.1140])"
   ]
  },
  {
   "cell_type": "code",
   "execution_count": 10,
   "metadata": {
    "collapsed": true,
    "deletable": true,
    "editable": true
   },
   "outputs": [],
   "source": [
    "def median_image_hashing(image_path, hash_dims=(8,8)):\n",
    "    '''\n",
    "    Median image hashing algorithm\n",
    "    '''\n",
    "    image_pil = Image.open(image_path)\n",
    "    resized_im = np.array(image_pil.resize(hash_dims))\n",
    "    gray_im = rgb2gray(resized_im)\n",
    "    binarized = (gray_im > np.median(gray_im)).astype(np.uint8)\n",
    "    average_hash = binarized.flatten()\n",
    "    return average_hash"
   ]
  },
  {
   "cell_type": "code",
   "execution_count": 11,
   "metadata": {
    "collapsed": false,
    "deletable": true,
    "editable": true
   },
   "outputs": [],
   "source": [
    "def hamming_distance(hash_pair):\n",
    "    return sum((hash_pair[0]!=hash_pair[1]).astype(np.uint8))"
   ]
  },
  {
   "cell_type": "code",
   "execution_count": 12,
   "metadata": {
    "collapsed": false,
    "deletable": true,
    "editable": true
   },
   "outputs": [],
   "source": [
    "image_hashes = np.array([median_image_hashing(path) for path in images])"
   ]
  },
  {
   "cell_type": "code",
   "execution_count": 13,
   "metadata": {
    "collapsed": false,
    "deletable": true,
    "editable": true
   },
   "outputs": [],
   "source": [
    "hash_pairs = image_hashes[indecies]"
   ]
  },
  {
   "cell_type": "code",
   "execution_count": 14,
   "metadata": {
    "collapsed": false,
    "deletable": true,
    "editable": true
   },
   "outputs": [],
   "source": [
    "distance_values = np.array(list(map(hamming_distance, hash_pairs)))"
   ]
  },
  {
   "cell_type": "code",
   "execution_count": 15,
   "metadata": {
    "collapsed": false,
    "deletable": true,
    "editable": true
   },
   "outputs": [],
   "source": [
    "dup_indecies = np.argwhere(distance_values<=6)"
   ]
  },
  {
   "cell_type": "code",
   "execution_count": 16,
   "metadata": {
    "collapsed": false,
    "deletable": true,
    "editable": true
   },
   "outputs": [
    {
     "data": {
      "text/plain": [
       "array([['./dev_dataset/1.jpg', './dev_dataset/1_duplicate.jpg'],\n",
       "       ['./dev_dataset/11.jpg', './dev_dataset/11_duplicate.jpg'],\n",
       "       ['./dev_dataset/11.jpg', './dev_dataset/11_modification.jpg'],\n",
       "       ['./dev_dataset/11_duplicate.jpg',\n",
       "        './dev_dataset/11_modification.jpg'],\n",
       "       ['./dev_dataset/15.jpg', './dev_dataset/15_modification.jpg']],\n",
       "      dtype='<U33')"
      ]
     },
     "execution_count": 16,
     "metadata": {},
     "output_type": "execute_result"
    }
   ],
   "source": [
    "images[indecies[dup_indecies]].reshape(-1,2)"
   ]
  },
  {
   "cell_type": "markdown",
   "metadata": {
    "deletable": true,
    "editable": true
   },
   "source": [
    "###  Hmm.  Not all of dups were found. Seems that  median hashing is note translation invariant. Let's try out comparing image color distribution. "
   ]
  },
  {
   "cell_type": "markdown",
   "metadata": {
    "deletable": true,
    "editable": true
   },
   "source": [
    "# Image histograms"
   ]
  },
  {
   "cell_type": "code",
   "execution_count": 17,
   "metadata": {
    "collapsed": true,
    "deletable": true,
    "editable": true
   },
   "outputs": [],
   "source": [
    "def color_histogram(image_path, bins=20, dims = (50,50)):\n",
    "    image_pil = Image.open(image_path)\n",
    "    resized_im = np.array(image_pil.resize(dims))\n",
    "    gray_im = rgb2gray(resized_im)\n",
    "    return np.histogram(gray_im,bins=np.linspace(0,255,bins))[0] "
   ]
  },
  {
   "cell_type": "code",
   "execution_count": 18,
   "metadata": {
    "collapsed": false,
    "deletable": true,
    "editable": true
   },
   "outputs": [],
   "source": [
    "def histogram_intersection(hist_pair):\n",
    "    minima = np.minimum(hist_pair[0], hist_pair[1])\n",
    "    intersection = np.true_divide(np.sum(minima), np.sum(hist_pair[1]))\n",
    "    return intersection "
   ]
  },
  {
   "cell_type": "code",
   "execution_count": 19,
   "metadata": {
    "collapsed": false,
    "deletable": true,
    "editable": true
   },
   "outputs": [],
   "source": [
    "color_distribution = np.array([color_histogram(path) for path in images])"
   ]
  },
  {
   "cell_type": "code",
   "execution_count": 20,
   "metadata": {
    "collapsed": false,
    "deletable": true,
    "editable": true
   },
   "outputs": [],
   "source": [
    "dist_pairs = color_distribution[indecies]"
   ]
  },
  {
   "cell_type": "code",
   "execution_count": 21,
   "metadata": {
    "collapsed": false,
    "deletable": true,
    "editable": true
   },
   "outputs": [],
   "source": [
    "intersection_values = np.array(list(map(histogram_intersection, dist_pairs)))"
   ]
  },
  {
   "cell_type": "code",
   "execution_count": 22,
   "metadata": {
    "collapsed": false,
    "deletable": true,
    "editable": true
   },
   "outputs": [],
   "source": [
    "dup_indecies = np.argwhere(intersection_values>=.9)"
   ]
  },
  {
   "cell_type": "code",
   "execution_count": 23,
   "metadata": {
    "collapsed": false,
    "deletable": true,
    "editable": true,
    "scrolled": true
   },
   "outputs": [
    {
     "data": {
      "text/plain": [
       "array([['./dev_dataset/1.jpg', './dev_dataset/1_duplicate.jpg'],\n",
       "       ['./dev_dataset/11.jpg', './dev_dataset/11_duplicate.jpg'],\n",
       "       ['./dev_dataset/11.jpg', './dev_dataset/11_modification.jpg'],\n",
       "       ['./dev_dataset/11_duplicate.jpg',\n",
       "        './dev_dataset/11_modification.jpg'],\n",
       "       ['./dev_dataset/15.jpg', './dev_dataset/15_modification.jpg'],\n",
       "       ['./dev_dataset/4.jpg', './dev_dataset/4_similar.jpg'],\n",
       "       ['./dev_dataset/6.jpg', './dev_dataset/6_similar.jpg']],\n",
       "      dtype='<U33')"
      ]
     },
     "execution_count": 23,
     "metadata": {},
     "output_type": "execute_result"
    }
   ],
   "source": [
    "images[indecies[dup_indecies]].reshape(-1,2)"
   ]
  },
  {
   "cell_type": "markdown",
   "metadata": {
    "deletable": true,
    "editable": true
   },
   "source": [
    "### Yay! All dups seem to be found. I'll combine both of the algorithms just to be on the safe side :)"
   ]
  },
  {
   "cell_type": "code",
   "execution_count": 35,
   "metadata": {
    "collapsed": false,
    "deletable": true,
    "editable": true
   },
   "outputs": [],
   "source": [
    "def find_dups_from_dir(data_dir, hash_threshold=6, hist_threshold=.9):\n",
    "    \n",
    "    if not os.path.exists(data_dir):\n",
    "        print('Bad boy')\n",
    "        return  \n",
    "    \n",
    "    images_filenames = np.array(glob.glob(data_dir+'/*'))\n",
    "    possible_ind_combs = np.array(list(combinations(range(len(images_filenames)),2)))\n",
    "    image_hashes = np.array([median_image_hashing(path) for path in images_filenames])\n",
    "    color_distribution = np.array([color_histogram(path) for path in images_filenames])\n",
    "    hash_pairs, dist_pairs = image_hashes[possible_ind_combs], color_distribution[possible_ind_combs]\n",
    "    hamming_distances = np.array(list(map(hamming_distance, hash_pairs)))\n",
    "    histogram_intersections =  np.array(list(map(histogram_intersection, dist_pairs)))\n",
    "    \n",
    "    \n",
    "    mask1 = hamming_distances<hash_threshold\n",
    "    mask2 = histogram_intersections>hist_threshold\n",
    "    final_mask = mask1 | mask2\n",
    "    dup_ind = np.argwhere(final_mask)\n",
    "    image_ind = possible_ind_combs[dup_ind]\n",
    "    \n",
    "    return np.squeeze(images_filenames[image_ind])"
   ]
  },
  {
   "cell_type": "code",
   "execution_count": 41,
   "metadata": {
    "collapsed": false,
    "deletable": true,
    "editable": true
   },
   "outputs": [
    {
     "data": {
      "text/plain": [
       "array([['./dev_dataset/11_duplicate.jpg', './dev_dataset/11.jpg'],\n",
       "       ['./dev_dataset/11_duplicate.jpg',\n",
       "        './dev_dataset/11_modification.jpg'],\n",
       "       ['./dev_dataset/6_similar.jpg', './dev_dataset/6.jpg'],\n",
       "       ['./dev_dataset/15.jpg', './dev_dataset/15_modification.jpg'],\n",
       "       ['./dev_dataset/11.jpg', './dev_dataset/11_modification.jpg'],\n",
       "       ['./dev_dataset/4.jpg', './dev_dataset/4_similar.jpg'],\n",
       "       ['./dev_dataset/1.jpg', './dev_dataset/1_duplicate.jpg']],\n",
       "      dtype='<U33')"
      ]
     },
     "execution_count": 41,
     "metadata": {},
     "output_type": "execute_result"
    }
   ],
   "source": [
    "find_dups_from_dir('./dev_dataset/')"
   ]
  },
  {
   "cell_type": "code",
   "execution_count": null,
   "metadata": {
    "collapsed": true,
    "deletable": true,
    "editable": true
   },
   "outputs": [],
   "source": []
  }
 ],
 "metadata": {
  "kernelspec": {
   "display_name": "Python 3",
   "language": "python",
   "name": "python3"
  },
  "language_info": {
   "codemirror_mode": {
    "name": "ipython",
    "version": 3
   },
   "file_extension": ".py",
   "mimetype": "text/x-python",
   "name": "python",
   "nbconvert_exporter": "python",
   "pygments_lexer": "ipython3",
   "version": "3.5.2"
  }
 },
 "nbformat": 4,
 "nbformat_minor": 2
}
